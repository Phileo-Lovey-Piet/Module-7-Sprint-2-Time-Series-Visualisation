{
 "cells": [
  {
   "cell_type": "code",
   "execution_count": 81,
   "metadata": {},
   "outputs": [],
   "source": [
    "import pandas as pd\n",
    "import numpy as np\n",
    "import matplotlib.pyplot as plt\n",
    "\n",
    "data = pd.read_csv('blacklivesbetter.csv',)\n",
    "\n"
   ]
  },
  {
   "cell_type": "code",
   "execution_count": null,
   "metadata": {},
   "outputs": [],
   "source": []
  },
  {
   "cell_type": "code",
   "execution_count": null,
   "metadata": {},
   "outputs": [],
   "source": [
    "Dates = ['2020-08-04', '2020-08-05', '2020-08-06', '2020-08-07']\n",
    "\n",
    "tweets = [17, 9, 16, 8]\n",
    "\n",
    "plt.plot(Dates, tweets)\n",
    "\n",
    "x = np.arange(len(Dates))\n",
    "\n",
    "\n",
    "plt.title('Times Series', fontsize=14)\n",
    "plt.xlabel('Day', fontsize=14)\n",
    "plt.ylabel('Tweets per day', fontsize=14)\n",
    "plt.xticks(x, Dates)\n",
    "\n",
    "plt.show()"
   ]
  }
 ],
 "metadata": {
  "kernelspec": {
   "display_name": "Python 3",
   "language": "python",
   "name": "python3"
  },
  "language_info": {
   "codemirror_mode": {
    "name": "ipython",
    "version": 3
   },
   "file_extension": ".py",
   "mimetype": "text/x-python",
   "name": "python",
   "nbconvert_exporter": "python",
   "pygments_lexer": "ipython3",
   "version": "3.7.6"
  }
 },
 "nbformat": 4,
 "nbformat_minor": 4
}
